{
 "cells": [
  {
   "cell_type": "code",
   "execution_count": 1,
   "id": "1986439b-ff1b-4541-bbef-09a24cc4428a",
   "metadata": {},
   "outputs": [],
   "source": [
    "## test through predict model in which featre hold the given value and predict the answer"
   ]
  },
  {
   "cell_type": "code",
   "execution_count": 2,
   "id": "85e7e790-fcd4-4d55-968d-663c141ad173",
   "metadata": {},
   "outputs": [
    {
     "data": {
      "text/plain": [
       "array([23.121])"
      ]
     },
     "execution_count": 2,
     "metadata": {},
     "output_type": "execute_result"
    }
   ],
   "source": [
    "from joblib import dump, load\n",
    "import numpy as np\n",
    "model=load('Dragaon.joblib')\n",
    "feature=np.array([[-0.43942006,  3.12628155, -1.12165014, -0.27288841, -1.42262747,\n",
    "       0.24141041, -1.31238772,  2.61111401, -1.0016859 , -0.5778192 ,\n",
    "       -0.97491834,  99.1164221, -0.86091034]])\n",
    "model.predict(feature)"
   ]
  },
  {
   "cell_type": "code",
   "execution_count": null,
   "id": "384eab2f-3ec4-4467-b8c5-33c5f6ad977f",
   "metadata": {},
   "outputs": [],
   "source": []
  },
  {
   "cell_type": "code",
   "execution_count": null,
   "id": "3126f5bb-2c6d-4056-8edd-c615f9220bcb",
   "metadata": {},
   "outputs": [],
   "source": []
  },
  {
   "cell_type": "markdown",
   "id": "f21aedb6-87a3-499b-b83d-4dd251504078",
   "metadata": {},
   "source": []
  }
 ],
 "metadata": {
  "kernelspec": {
   "display_name": "Python 3 (ipykernel)",
   "language": "python",
   "name": "python3"
  },
  "language_info": {
   "codemirror_mode": {
    "name": "ipython",
    "version": 3
   },
   "file_extension": ".py",
   "mimetype": "text/x-python",
   "name": "python",
   "nbconvert_exporter": "python",
   "pygments_lexer": "ipython3",
   "version": "3.11.7"
  }
 },
 "nbformat": 4,
 "nbformat_minor": 5
}
